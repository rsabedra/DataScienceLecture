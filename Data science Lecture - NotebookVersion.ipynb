{
 "cells": [
  {
   "cell_type": "markdown",
   "metadata": {},
   "source": [
    "# Data Science Lecture Exercise - 2018"
   ]
  },
  {
   "cell_type": "markdown",
   "metadata": {},
   "source": [
    "## Gas prices analisys and prediction"
   ]
  },
  {
   "cell_type": "code",
   "execution_count": 32,
   "metadata": {},
   "outputs": [],
   "source": [
    "\n",
    "\n",
    "import pandas as pd\n",
    "\n",
    "import seaborn as sns\n",
    "\n",
    "import matplotlib.pyplot as plt\n",
    "from matplotlib import pyplot\n",
    "\n",
    "from sklearn.linear_model import LinearRegression\n",
    "from sklearn import ensemble\n",
    "from sklearn.cross_validation import train_test_split"
   ]
  },
  {
   "cell_type": "markdown",
   "metadata": {},
   "source": [
    "### Functions and path"
   ]
  },
  {
   "cell_type": "code",
   "execution_count": 2,
   "metadata": {},
   "outputs": [],
   "source": [
    "def DataRead(str1, useCols, tablenames):\n",
    "    dataTable = pd.read_csv(\"%s\" % str1, header=None, sep=\"\\s*\\;\",usecols=useCols, names=tablenames,  engine='python')\n",
    "    dataTable.drop(dataTable.index[[0]], inplace=True)\n",
    "    return dataTable"
   ]
  },
  {
   "cell_type": "code",
   "execution_count": 3,
   "metadata": {},
   "outputs": [],
   "source": [
    "def CollumnFill (name, data, index, df):\n",
    "    df[name][index] = data\n",
    "    return\n"
   ]
  },
  {
   "cell_type": "code",
   "execution_count": 4,
   "metadata": {},
   "outputs": [],
   "source": [
    "def CollumnAppend (name, data, df): \n",
    "    df = df.append(data, ignore_index=True)\n",
    "    return"
   ]
  },
  {
   "cell_type": "code",
   "execution_count": 5,
   "metadata": {},
   "outputs": [],
   "source": [
    "tablePath = \"C:/Users/rsabedra/Documents/Python/example_sprit_cut_prices.csv\"\n",
    "tablePath2 = \"C:/Users/rsabedra/Documents/Python/example_sprit_cut_station.csv\""
   ]
  },
  {
   "cell_type": "markdown",
   "metadata": {},
   "source": [
    "### Extracting and cleaning the data "
   ]
  },
  {
   "cell_type": "code",
   "execution_count": 6,
   "metadata": {},
   "outputs": [],
   "source": [
    "useColls = [0, 1, 2, 3, 4]\n",
    "tableCollumns = ['ID', 'E5', 'E10', 'DIESEL', 'DATA'] \n",
    "table = DataRead(tablePath, useColls , tableCollumns)\n",
    "\n",
    "\n",
    "\n",
    "table.E5 = pd.to_numeric(table.E5, errors='coerce')\n",
    "table.E10 = pd.to_numeric(table.E10, errors='coerce')\n",
    "table.DIESEL = pd.to_numeric(table.DIESEL, errors='coerce')\n",
    "\n",
    "\n",
    "useColls2 = [0, 4, 7,10,11]\n",
    "tableCollumns2 = ['ID', 'BRAND', 'POST_CODE', 'LAT', 'LNG'] \n",
    "table2 = DataRead(tablePath2, useColls2 , tableCollumns2)\n",
    "\n",
    "\n",
    "# =============================================================================\n",
    "# Organizing and cleaning the data\n",
    "# =============================================================================\n",
    "\n",
    "table = table.dropna()\n",
    "\n",
    "table = table.drop(table[table.E5 > 8000].index)\n",
    "table = table.drop(table[table.E5 < 10].index)\n",
    "\n",
    "table = table.drop(table[table.E10 > 8000].index)\n",
    "table = table.drop(table[table.E10 < 10].index)\n",
    "\n",
    "table = table.drop(table[table.DIESEL > 8000].index)\n",
    "table = table.drop(table[table.DIESEL < 10].index)\n",
    "\n",
    "\n",
    "table = table.reset_index(drop=True)\n",
    "table = table.drop_duplicates(inplace=False)\n",
    "\n",
    "table2 = table2.dropna()\n",
    "table2 = table2.reset_index(drop=True)\n",
    "table2 = table2.drop_duplicates(inplace=False)\n"
   ]
  },
  {
   "cell_type": "markdown",
   "metadata": {},
   "source": [
    "### Auxiliary function to create a months list based on the data"
   ]
  },
  {
   "cell_type": "code",
   "execution_count": 7,
   "metadata": {},
   "outputs": [],
   "source": [
    "MonthsTotal = list()\n",
    "\n",
    "monthAux = table.iloc[0, 4][1:-20]\n",
    "MonthsTotal.append(monthAux)\n",
    "\n",
    "for x in range (0, len(table.DATA)):\n",
    "    if (monthAux != table.iloc[x, 4][1:-20]):\n",
    "        value = table.iloc[x, 4][1:-20]\n",
    "        monthAux = table.iloc[x, 4][1:-20]\n",
    "    \n",
    "        MonthsTotal.append(value)\n",
    "        \n",
    "\n",
    "MonthsTotal = list(set(MonthsTotal))\n",
    "MonthsTotal.sort()"
   ]
  },
  {
   "cell_type": "markdown",
   "metadata": {},
   "source": [
    "### How many different brands are there?"
   ]
  },
  {
   "cell_type": "code",
   "execution_count": 8,
   "metadata": {},
   "outputs": [
    {
     "data": {
      "text/plain": [
       "53"
      ]
     },
     "execution_count": 8,
     "metadata": {},
     "output_type": "execute_result"
    }
   ],
   "source": [
    "tst = table2.groupby(['BRAND']).groups.keys()\n",
    "len(tst)\n"
   ]
  },
  {
   "cell_type": "markdown",
   "metadata": {},
   "source": [
    "### How many different locations are present in the data?"
   ]
  },
  {
   "cell_type": "code",
   "execution_count": 9,
   "metadata": {},
   "outputs": [
    {
     "data": {
      "text/plain": [
       "397"
      ]
     },
     "execution_count": 9,
     "metadata": {},
     "output_type": "execute_result"
    }
   ],
   "source": [
    "len(table2.groupby(['LAT' , 'LNG']).count())\n"
   ]
  },
  {
   "cell_type": "markdown",
   "metadata": {},
   "source": [
    "### What is the min, max price for each gasoline type, per month?"
   ]
  },
  {
   "cell_type": "code",
   "execution_count": 10,
   "metadata": {},
   "outputs": [
    {
     "data": {
      "text/plain": [
       "Text(0,0.5,'Price')"
      ]
     },
     "execution_count": 10,
     "metadata": {},
     "output_type": "execute_result"
    },
    {
     "data": {
      "image/png": "[encoded data removed]",
      "text/plain": [
       "<Figure size 432x288 with 1 Axes>"
      ]
     },
     "metadata": {},
     "output_type": "display_data"
    }
   ],
   "source": [
    "listMaxE5 = list()\n",
    "listMaxE10 = list()\n",
    "listMaxDIESEL = list()\n",
    "\n",
    "listMinE5 = list()\n",
    "listMinE10 = list()\n",
    "listMinDIESEL = list()\n",
    "listLocMinDIESEL = list()\n",
    "\n",
    "\n",
    "var = table.iloc[0, 4][1:-20]\n",
    "\n",
    "for y in range (0, len(MonthsTotal)):\n",
    "    E5Max = 0\n",
    "    E10Max = 0\n",
    "    DIESELMax = 0\n",
    "\n",
    "    E5Min = 9999999\n",
    "    E10Min = 9999999\n",
    "    DIESELMin = 9999999\n",
    "    \n",
    "    \n",
    "    for x in range (0, len(table.DATA)):\n",
    "        if(MonthsTotal[y] == table.iloc[x, 4][1:-20]):\n",
    "     \n",
    "            if (E5Max < table.iloc[x, 1]):  \n",
    "                E5Max = table.iloc[x, 1]\n",
    "            elif (E5Min > table.iloc[x, 1]): \n",
    "                E5Min = table.iloc[x, 1]\n",
    "                                \n",
    "            if (E10Max < table.iloc[x, 2]):\n",
    "                E10Max = table.iloc[x, 2]\n",
    "            elif (E10Min > table.iloc[x, 2]):\n",
    "                E10Min = table.iloc[x, 2]\n",
    "            \n",
    "            if (DIESELMax < table.iloc[x, 3]): \n",
    "                DIESELMax = table.iloc[x, 3]\n",
    "            elif (DIESELMin > table.iloc[x, 3]): \n",
    "                DIESELMin = table.iloc[x, 3]\n",
    "                IdDiesel= table.iloc[x, 0]  \n",
    "                \n",
    "                \n",
    "\n",
    "    listMaxE5.append(E5Max)\n",
    "    listMaxE10.append(E10Max)\n",
    "    listMaxDIESEL.append(DIESELMax)\n",
    "\n",
    "    listMinE5.append(E5Min)\n",
    "    listMinE10.append(E10Min)\n",
    "    listMinDIESEL.append(DIESELMin)\n",
    "    listLocMinDIESEL.append(IdDiesel)\n",
    "    \n",
    "MaxMinGasolineMonth = pd.DataFrame(\n",
    "    {'Month': MonthsTotal,\n",
    "     'MaxE5': listMaxE5,\n",
    "     'MinE5': listMinE5,\n",
    "     'MaxE10': listMaxE10,\n",
    "     'MinE10': listMinE10,\n",
    "     'MaxDIESEL': listMaxDIESEL,\n",
    "     'MinDIESEL': listMinDIESEL\n",
    "    })\n",
    "    \n",
    "MaxMinGasolineMonth['Month'] = pd.to_datetime(MaxMinGasolineMonth['Month'], format='%Y-%m')\n",
    "MaxMinGasolineMonth.plot.line(x='Month')\n",
    "plt.title('What is the min, max price for each gasoline type, per month?')\n",
    "plt.xlabel('Date')\n",
    "plt.ylabel('Price')    "
   ]
  },
  {
   "cell_type": "markdown",
   "metadata": {},
   "source": [
    "### What is the mean of each gasoline type?"
   ]
  },
  {
   "cell_type": "code",
   "execution_count": 11,
   "metadata": {},
   "outputs": [
    {
     "data": {
      "text/plain": [
       "Text(0.5,1,'What is the mean of each gasoline type?')"
      ]
     },
     "execution_count": 11,
     "metadata": {},
     "output_type": "execute_result"
    },
    {
     "data": {
      "image/png": "[encoded data removed]",
      "text/plain": [
       "<Figure size 432x288 with 1 Axes>"
      ]
     },
     "metadata": {},
     "output_type": "display_data"
    }
   ],
   "source": [
    "table.describe()\n",
    "\n",
    "boxplot = pd.DataFrame()\n",
    "boxplot['ID'] = table['ID']\n",
    "boxplot['DIESEL'] = table['DIESEL']\n",
    "boxplot['E5'] = table['E5']\n",
    "boxplot['E10'] = table['E10']\n",
    "\n",
    "ax = sns.boxplot( data=boxplot)\n",
    "ax.set_title('What is the mean of each gasoline type?')\n",
    "\n"
   ]
  },
  {
   "cell_type": "markdown",
   "metadata": {},
   "source": [
    "### What is the brand with major number of gas stations?"
   ]
  },
  {
   "cell_type": "code",
   "execution_count": 21,
   "metadata": {},
   "outputs": [
    {
     "data": {
      "text/plain": [
       "Text(0.5,1,'What is the brand with major number of gas stations?')"
      ]
     },
     "execution_count": 21,
     "metadata": {},
     "output_type": "execute_result"
    },
    {
     "data": {
      "image/png": "[encoded data removed]",
      "text/plain": [
       "<Figure size 576x360 with 1 Axes>"
      ]
     },
     "metadata": {},
     "output_type": "display_data"
    }
   ],
   "source": [
    "listQuantOfBrands = list()\n",
    "\n",
    "\n",
    "for y in range (0, len(tst)):\n",
    "    cont = 0\n",
    "\n",
    "    for x in range (0, len(table2.BRAND)):\n",
    "        if(tst[y] == table2.iloc[x, 1]):\n",
    "     \n",
    "            cont += 1\n",
    "\n",
    "    listQuantOfBrands.append(cont)\n",
    "\n",
    "majorGasStations = pd.DataFrame(\n",
    "{\n",
    " 'Brands':[x for x in tst],\n",
    " 'Count':[ x for x in listQuantOfBrands]\n",
    "}) \n",
    "\n",
    "\n",
    "majorGasStations = majorGasStations.drop(majorGasStations[majorGasStations.Count < 12].index)\n",
    "        \n",
    "dim = (8, 5)\n",
    "fig, ax = pyplot.subplots(figsize=dim)\n",
    "ax = sns.barplot(x=\"Brands\", y=\"Count\",  data=majorGasStations)   \n",
    "ax.set_title('What is the brand with major number of gas stations?') \n"
   ]
  },
  {
   "cell_type": "markdown",
   "metadata": {},
   "source": [
    "### What is the maximum range of each gasoline type per month?"
   ]
  },
  {
   "cell_type": "code",
   "execution_count": 13,
   "metadata": {},
   "outputs": [
    {
     "data": {
      "text/plain": [
       "([0, 1, 2, 3, 4, 5, 6, 7, 8, 9, 10, 11, 12, 13, 14, 15],\n",
       " <a list of 16 Text xticklabel objects>)"
      ]
     },
     "execution_count": 13,
     "metadata": {},
     "output_type": "execute_result"
    },
    {
     "data": {
      "image/png": "[encoded data removed]",
      "text/plain": [
       "<Figure size 432x288 with 1 Axes>"
      ]
     },
     "metadata": {},
     "output_type": "display_data"
    }
   ],
   "source": [
    "listRangeE5 = list()\n",
    "listRangeE10 = list()\n",
    "listRangeDIESEL = list()\n",
    "\n",
    "\n",
    "for x in range (0, len(MonthsTotal)):\n",
    "    listRangeE5.append(listMaxE5[x] - listMinE5[x])\n",
    "    listRangeE10.append(listMaxE10[x] - listMinE10[x])\n",
    "    listRangeDIESEL.append(listMaxDIESEL[x] - listMinDIESEL[x])\n",
    "\n",
    "RangePrices = pd.DataFrame(\n",
    "{\n",
    " 'Month': MonthsTotal,\n",
    " 'E5': listRangeE5,\n",
    " 'E10': listRangeE10, \n",
    " 'DIESEL': listRangeDIESEL \n",
    "})   \n",
    "    \n",
    "f, ax = plt.subplots(1, 1, sharey=True)\n",
    "\n",
    "ax.scatter(RangePrices.Month, RangePrices.E5)    \n",
    "ax.scatter(RangePrices.Month, RangePrices.E10)  \n",
    "ax.scatter(RangePrices.Month, RangePrices.DIESEL)      \n",
    "plt.title('What is the maximum range of each gasoline type per month?')\n",
    "plt.xlabel('Date')\n",
    "plt.ylabel('Price')\n",
    "plt.legend(bbox_to_anchor=(1.05, 1), loc=2, borderaxespad=0.)\n",
    "\n",
    "plt.xticks(rotation=35)   "
   ]
  },
  {
   "cell_type": "markdown",
   "metadata": {},
   "source": [
    "### What is the region with most concentration of gas stations?"
   ]
  },
  {
   "cell_type": "code",
   "execution_count": 14,
   "metadata": {},
   "outputs": [
    {
     "data": {
      "text/plain": [
       "Text(0.5,1,'What is the region with most concentration of gas stations?')"
      ]
     },
     "execution_count": 14,
     "metadata": {},
     "output_type": "execute_result"
    },
    {
     "data": {
      "image/png": "[encoded data removed]",
      "text/plain": [
       "<Figure size 432x288 with 1 Axes>"
      ]
     },
     "metadata": {},
     "output_type": "display_data"
    }
   ],
   "source": [
    "listPostReg = list()\n",
    "\n",
    "for x in range (0, len(table2.POST_CODE)):\n",
    "    listPostReg.append(table2.iloc[x, 2][0:-3])\n",
    "\n",
    "RegionsGasStations = [[x,listPostReg.count(x)] for x in set(listPostReg)]\n",
    "\n",
    "RegionsGasStations2 = pd.DataFrame(\n",
    "{\n",
    " 'Region':[ x[0] for x in RegionsGasStations],\n",
    " 'Count':[ x[1] for x in RegionsGasStations]\n",
    "}) \n",
    "RegionsGasStations2 = RegionsGasStations2.iloc[2:]\n",
    "\n",
    "\n",
    "ax = sns.barplot(x=\"Region\", y=\"Count\",  data=RegionsGasStations2)   \n",
    "ax.set_title('What is the region with most concentration of gas stations?')  \n"
   ]
  },
  {
   "cell_type": "markdown",
   "metadata": {},
   "source": [
    "### What is the whole Diesel variation?"
   ]
  },
  {
   "cell_type": "code",
   "execution_count": null,
   "metadata": {},
   "outputs": [],
   "source": [
    "diesel = pd.DataFrame()\n",
    "diesel['ID'] = table['ID']\n",
    "diesel['DIESEL'] = table['DIESEL']\n",
    "diesel['DATA'] = pd.to_datetime(table['DATA'], format='\"%Y-%m-%d %H:%M:%S.%f\"')\n",
    "dieselAux = diesel.copy()\n",
    "\n",
    "dieselAux.set_index('DATA', drop=False, inplace=True)\n",
    "dieselAux.groupby('ID')['DIESEL'].plot(legend=False)\n",
    "plt.title('What is the whole Diesel variation?')\n",
    "plt.xlabel('Date')\n",
    "plt.ylabel('Price')"
   ]
  },
  {
   "cell_type": "markdown",
   "metadata": {},
   "source": [
    "## Machine learning predictor"
   ]
  },
  {
   "cell_type": "code",
   "execution_count": 16,
   "metadata": {},
   "outputs": [],
   "source": [
    "#Preparing variables\n",
    "\n",
    "datadates = diesel.DATA.values\n",
    "datamonths = pd.Series(data=[pd.to_datetime(x).month for x in datadates],  name='month')\n",
    "datadays = pd.Series([pd.to_datetime(x).day for x in datadates],  name='day')\n",
    "datahour = pd.Series([pd.to_datetime(x).hour for x in datadates],  name='hour')\n",
    "\n",
    "diesel['DAY'] = datadays\n",
    "diesel['MONTH'] = datamonths\n",
    "diesel['HOUR'] = datahour\n",
    "\n",
    "reg = LinearRegression()\n",
    "\n",
    "teste = diesel.copy()\n",
    "teste['E5'] = table['E5']\n",
    "teste['E10'] = table['E10']\n",
    "teste= teste.iloc[:50000,:]\n",
    "\n",
    "\n",
    "labels = teste['DIESEL']\n",
    "train1 = teste.drop(['ID', 'DIESEL', 'DATA'],axis=1)"
   ]
  },
  {
   "cell_type": "markdown",
   "metadata": {},
   "source": [
    "### Simple Linear Regressor"
   ]
  },
  {
   "cell_type": "code",
   "execution_count": 17,
   "metadata": {},
   "outputs": [
    {
     "data": {
      "text/plain": [
       "0.8812185969749381"
      ]
     },
     "execution_count": 17,
     "metadata": {},
     "output_type": "execute_result"
    }
   ],
   "source": [
    "x_train, x_test, y_train, y_test =train_test_split(train1, labels, test_size=0.40, random_state=20)\n",
    "reg.fit(x_train, y_train)\n",
    "reg.score(x_test, y_test)\n"
   ]
  },
  {
   "cell_type": "markdown",
   "metadata": {},
   "source": [
    "### Gradient Boosting Regressor"
   ]
  },
  {
   "cell_type": "code",
   "execution_count": 30,
   "metadata": {},
   "outputs": [
    {
     "data": {
      "text/plain": [
       "0.8951925989688242"
      ]
     },
     "execution_count": 30,
     "metadata": {},
     "output_type": "execute_result"
    }
   ],
   "source": [
    "clf = ensemble.GradientBoostingRegressor(n_estimators = 800, max_depth = 8, min_samples_split = 4,\n",
    "          learning_rate = 0.4, loss = 'ls')\n",
    "\n",
    "clf.fit(x_train, y_train)\n",
    "\n",
    "clf.score(x_test,y_test)"
   ]
  }
 ],
 "metadata": {
  "kernelspec": {
   "display_name": "Python 2",
   "language": "python",
   "name": "python2"
  },
  "language_info": {
   "codemirror_mode": {
    "name": "ipython",
    "version": 2
   },
   "file_extension": ".py",
   "mimetype": "text/x-python",
   "name": "python",
   "nbconvert_exporter": "python",
   "pygments_lexer": "ipython2",
   "version": "2.7.15"
  }
 },
 "nbformat": 4,
 "nbformat_minor": 2
}
